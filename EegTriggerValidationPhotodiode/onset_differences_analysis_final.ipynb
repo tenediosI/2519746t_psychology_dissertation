{
 "cells": [
  {
   "cell_type": "code",
   "execution_count": 1,
   "id": "1ff26876",
   "metadata": {},
   "outputs": [
    {
     "name": "stdout",
     "output_type": "stream",
     "text": [
      "DataFrame 1:\n",
      "  Marker Number  Description    Onset   Size   Channel\n",
      "0  Mk4=Stimulus          S  2  212356      1         0\n",
      "1  Mk5=Stimulus          S  3  222439      1         0\n",
      "2  Mk6=Stimulus          S  3  223472      1         0\n",
      "3  Mk7=Stimulus          S  3  224506      1         0\n",
      "4  Mk8=Stimulus          S  3  225539      1         0\n",
      "\n",
      "DataFrame 2:\n",
      "  Opto 1 Onset Opto 1 Offset Opto 1 Duration\n",
      "0    16,812.50     21,796.25        4,983.75\n",
      "1    26,895.75     27,879.50          983.75\n",
      "2    27,929.25     28,912.75           983.5\n",
      "3    28,962.50     29,946.25          983.75\n",
      "4    29,995.75     30,979.50          983.75\n"
     ]
    }
   ],
   "source": [
    "import pandas as pd\n",
    "import numpy as np\n",
    "eeg_triggers_file = 'eeg_triggers.csv'\n",
    "photodiode_trials_file = 'photo_triggers.csv'\n",
    "\n",
    "# Read CSV files into Pandas DataFrames\n",
    "eeg_triggers = pd.read_csv(eeg_triggers_file)\n",
    "photodiode_triggers = pd.read_csv(photodiode_trials_file)\n",
    "\n",
    "# Display the first few rows of each DataFrame\n",
    "print(\"DataFrame 1:\")\n",
    "print(eeg_triggers.head())\n",
    "\n",
    "print(\"\\nDataFrame 2:\")\n",
    "print(photodiode_triggers.head())\n"
   ]
  },
  {
   "cell_type": "code",
   "execution_count": 42,
   "id": "6304929b",
   "metadata": {},
   "outputs": [
    {
     "name": "stdout",
     "output_type": "stream",
     "text": [
      "<class 'numpy.ndarray'>\n",
      "<class 'numpy.ndarray'>\n",
      "first time stamp correction 212355.0\n",
      "first time stamp correction 16812.5\n",
      "[     0.  10083.  11116.  12150.  13183.  14216.  16283.  17316.  19383.\n",
      "  20416.  22483.  23516.  42667.  52750.  53783.  54817.  56883.  57917.\n",
      "  58950.  61017.  62050.  63083.  65150.  66183.  67217.  86500.  96583.\n",
      "  97617.  98650. 100717. 101750. 102783. 104850. 105883. 107950. 108983.\n",
      " 110017. 129967. 140050. 141084. 142117. 144184. 145217. 146250. 147284.\n",
      " 149350. 150384. 151417. 152450. 153484. 155550. 156584. 157617. 158650.]\n",
      "54\n",
      "[     0.  10084.  11117.  12150.  13184.  14217.  16284.  17317.  19384.\n",
      "  20417.  22484.  23517.  42667.  52750.  53784.  54817.  56884.  57917.\n",
      "  58950.  61017.  62050.  63084.  65150.  66183.  67217.  86500.  96583.\n",
      "  97617.  98650. 100717. 101750. 102783. 104850. 105883. 107950. 108983.\n",
      " 110017. 129967. 140050. 141083. 142117. 144183. 145217. 146250. 147283.\n",
      " 149350. 150383. 151417. 152450. 153483. 155550. 156583. 157617. 158650.]\n",
      "54\n"
     ]
    }
   ],
   "source": [
    "#Load in the onset of software and photodiode triggers\n",
    "datapoint_eeg_onsets = eeg_triggers[\"Onset\"].to_numpy(dtype=int)\n",
    "photodiode_onsets = photodiode_triggers[\"Opto 1 Onset\"]\n",
    "photodiode_onsets = photodiode_onsets[~pd.isnull(photodiode_onsets)]\n",
    "photodiode_onsets = [float(str(i).replace(\",\", \"\")) for i in photodiode_onsets]\n",
    "photodiode_onsets_floats = np.array(photodiode_onsets,float)\n",
    "\n",
    "print(type(datapoint_eeg_onsets))\n",
    "print(type(photodiode_onsets_floats))\n",
    "\n",
    "#Convert eeg onsets from data points to time points\n",
    "timepoint_eeg_onsets = (datapoint_eeg_onsets - 1) * 1\n",
    "timepoint_eeg_onsets = timepoint_eeg_onsets.astype(float)\n",
    "#Convert onsets to begin from zero\n",
    "first_eeg_samp = timepoint_eeg_onsets[0]\n",
    "print('first time stamp correction {}'.format(first_eeg_samp))\n",
    "timepoint_eeg_onsets = timepoint_eeg_onsets - first_eeg_samp\n",
    "\n",
    "first_photodiode_samp = photodiode_onsets[0]\n",
    "print('first time stamp correction {}'.format(first_photodiode_samp))\n",
    "photodiode_onsets_floats = photodiode_onsets_floats - first_photodiode_samp\n",
    "photodiode_onsets_floats = np.ceil(photodiode_onsets_floats)\n",
    "print(timepoint_eeg_onsets)\n",
    "print(len(timepoint_eeg_onsets))\n",
    "print(photodiode_onsets_floats)\n",
    "print(len(photodiode_onsets_floats))"
   ]
  },
  {
   "cell_type": "code",
   "execution_count": null,
   "id": "f9788164",
   "metadata": {},
   "outputs": [],
   "source": [
    "#Presentation of differences\n",
    "import matplotlib.pyplot as plt\n",
    "\n",
    "onset_differences = timepoint_eeg_onsets - photodiode_onsets_floats\n",
    "print(onset_differences)\n",
    "\n",
    "plt.hist(onset_differences, edgecolor='black')\n",
    "plt.xlabel('Onset Differences (milliseconds)')\n",
    "plt.ylabel('Frequency')\n",
    "plt.title('Histogram of onset differences between photodiode and eeg recordings')"
   ]
  },
  {
   "cell_type": "code",
   "execution_count": null,
   "id": "b84ad2b0",
   "metadata": {},
   "outputs": [],
   "source": []
  },
  {
   "cell_type": "code",
   "execution_count": null,
   "id": "42384ba6-118a-418f-96d2-502045141a2c",
   "metadata": {},
   "outputs": [],
   "source": []
  }
 ],
 "metadata": {
  "kernelspec": {
   "display_name": "Python 3 (ipykernel)",
   "language": "python",
   "name": "python3"
  },
  "language_info": {
   "codemirror_mode": {
    "name": "ipython",
    "version": 3
   },
   "file_extension": ".py",
   "mimetype": "text/x-python",
   "name": "python",
   "nbconvert_exporter": "python",
   "pygments_lexer": "ipython3",
   "version": "3.11.4"
  }
 },
 "nbformat": 4,
 "nbformat_minor": 5
}
